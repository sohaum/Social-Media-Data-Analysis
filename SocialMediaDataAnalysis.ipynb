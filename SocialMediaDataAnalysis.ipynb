{
 "cells": [
  {
   "cell_type": "markdown",
   "metadata": {},
   "source": [
    "# Clean & Analyze Social Media"
   ]
  },
  {
   "cell_type": "markdown",
   "metadata": {},
   "source": [
    "## Introduction\n",
    "\n",
    "Social media has become a ubiquitous part of modern life, with platforms such as Instagram, Twitter, and Facebook serving as essential communication channels. Social media data sets are vast and complex, making analysis a challenging task for businesses and researchers alike. In this project, we explore a simulated social media, for example Tweets, data set to understand trends in likes across different categories.\n",
    "\n",
    "## Prerequisites\n",
    "\n",
    "To follow along with this project, you should have a basic understanding of Python programming and data analysis concepts. In addition, you may want to use the following packages in your Python environment:\n",
    "\n",
    "- pandas\n",
    "- Matplotlib\n",
    "- ...\n",
    "\n",
    "These packages should already be installed in Coursera's Jupyter Notebook environment, however if you'd like to install additional packages that are not included in this environment or are working off platform you can install additional packages using `!pip install packagename` within a notebook cell such as:\n",
    "\n",
    "- `!pip install pandas`\n",
    "- `!pip install matplotlib`\n",
    "\n",
    "## Project Scope\n",
    "\n",
    "The objective of this project is to analyze tweets (or other social media data) and gain insights into user engagement. We will explore the data set using visualization techniques to understand the distribution of likes across different categories. Finally, we will analyze the data to draw conclusions about the most popular categories and the overall engagement on the platform.\n",
    "\n",
    "## Step 1: Importing Required Libraries\n",
    "\n",
    "As the name suggests, the first step is to import all the necessary libraries that will be used in the project. In this case, we need pandas, numpy, matplotlib, seaborn, and random libraries.\n",
    "\n",
    "Pandas is a library used for data manipulation and analysis. Numpy is a library used for numerical computations. Matplotlib is a library used for data visualization. Seaborn is a library used for statistical data visualization. Random is a library used to generate random numbers."
   ]
  },
  {
   "cell_type": "code",
   "execution_count": 1,
   "metadata": {},
   "outputs": [],
   "source": [
    "# Importing necessary libraries\n",
    "import pandas as pd\n",
    "import numpy as np\n",
    "import matplotlib.pyplot as plt\n",
    "import seaborn as sns\n",
    "import random\n",
    "\n",
    "# Enabling inline plotting for Jupyter Notebooks\n",
    "%matplotlib inline"
   ]
  },
  {
   "cell_type": "markdown",
   "metadata": {},
   "source": [
    "# Step 2: Generate Random Data for Social Media"
   ]
  },
  {
   "cell_type": "code",
   "execution_count": 2,
   "metadata": {},
   "outputs": [],
   "source": [
    "# Define categories for the social media experiment\n",
    "categories = ['Food', 'Travel', 'Fashion', 'Fitness', 'Music', 'Culture', 'Family', 'Health']\n",
    "\n",
    "# Generate random data\n",
    "n = 500  # Number of data points\n",
    "data = {\n",
    "    'Date': pd.date_range('2021-01-01', periods=n),\n",
    "    'Category': [random.choice(categories) for _ in range(n)],\n",
    "    'Likes': np.random.randint(0, 10000, size=n)\n",
    "}"
   ]
  },
  {
   "cell_type": "markdown",
   "metadata": {},
   "source": [
    "# Step 3: Load the Data into a Pandas DataFrame and Explore"
   ]
  },
  {
   "cell_type": "code",
   "execution_count": 3,
   "metadata": {},
   "outputs": [
    {
     "name": "stdout",
     "output_type": "stream",
     "text": [
      "        Date Category  Likes\n",
      "0 2021-01-01   Travel    102\n",
      "1 2021-01-02    Music   7822\n",
      "2 2021-01-03     Food   8345\n",
      "3 2021-01-04  Fitness   6312\n",
      "4 2021-01-05     Food   9296\n",
      "\n",
      "DataFrame Info:\n",
      "<class 'pandas.core.frame.DataFrame'>\n",
      "RangeIndex: 500 entries, 0 to 499\n",
      "Data columns (total 3 columns):\n",
      " #   Column    Non-Null Count  Dtype         \n",
      "---  ------    --------------  -----         \n",
      " 0   Date      500 non-null    datetime64[ns]\n",
      " 1   Category  500 non-null    object        \n",
      " 2   Likes     500 non-null    int64         \n",
      "dtypes: datetime64[ns](1), int64(1), object(1)\n",
      "memory usage: 11.8+ KB\n",
      "None\n",
      "\n",
      "DataFrame Description:\n",
      "             Likes\n",
      "count   500.000000\n",
      "mean   4968.632000\n",
      "std    2872.848635\n",
      "min      37.000000\n",
      "25%    2439.250000\n",
      "50%    4864.500000\n",
      "75%    7253.250000\n",
      "max    9991.000000\n",
      "\n",
      "Category Counts:\n",
      "Culture    79\n",
      "Music      69\n",
      "Food       68\n",
      "Fitness    65\n",
      "Travel     57\n",
      "Family     56\n",
      "Health     54\n",
      "Fashion    52\n",
      "Name: Category, dtype: int64\n"
     ]
    }
   ],
   "source": [
    "# Load data into a DataFrame\n",
    "df = pd.DataFrame(data)\n",
    "\n",
    "# Print the DataFrame\n",
    "print(df.head())\n",
    "\n",
    "# Explore the data\n",
    "print(\"\\nDataFrame Info:\")\n",
    "print(df.info())\n",
    "\n",
    "print(\"\\nDataFrame Description:\")\n",
    "print(df.describe())\n",
    "\n",
    "print(\"\\nCategory Counts:\")\n",
    "print(df['Category'].value_counts())"
   ]
  },
  {
   "cell_type": "markdown",
   "metadata": {},
   "source": [
    "# Step 4: Clean the Data"
   ]
  },
  {
   "cell_type": "code",
   "execution_count": 4,
   "metadata": {},
   "outputs": [],
   "source": [
    "# Remove null data\n",
    "df.dropna(inplace=True)\n",
    "\n",
    "# Remove duplicate data\n",
    "df.drop_duplicates(inplace=True)\n",
    "\n",
    "# Convert the 'Date' field to datetime format\n",
    "df['Date'] = pd.to_datetime(df['Date'])\n",
    "\n",
    "# Convert 'Likes' to integer (if not already)\n",
    "df['Likes'] = df['Likes'].astype(int)"
   ]
  },
  {
   "cell_type": "markdown",
   "metadata": {},
   "source": [
    "# Step 5: Visualize and Analyze the data"
   ]
  },
  {
   "cell_type": "code",
   "execution_count": 6,
   "metadata": {},
   "outputs": [
    {
     "data": {
      "image/png": "[encoded data removed]",
      "text/plain": [
       "<Figure size 432x288 with 1 Axes>"
      ]
     },
     "metadata": {
      "needs_background": "light"
     },
     "output_type": "display_data"
    },
    {
     "data": {
      "image/png": "[encoded data removed]",
      "text/plain": [
       "<Figure size 432x288 with 1 Axes>"
      ]
     },
     "metadata": {
      "needs_background": "light"
     },
     "output_type": "display_data"
    },
    {
     "name": "stdout",
     "output_type": "stream",
     "text": [
      "Overall Mean of Likes: 4968.632\n",
      "\n",
      "Mean Likes by Category:\n",
      "Category\n",
      "Culture    4559.784810\n",
      "Family     5119.535714\n",
      "Fashion    5317.480769\n",
      "Fitness    4612.892308\n",
      "Food       4803.397059\n",
      "Health     4626.537037\n",
      "Music      5275.275362\n",
      "Travel     5624.456140\n",
      "Name: Likes, dtype: float64\n"
     ]
    }
   ],
   "source": [
    "# Visualization: Histogram of Likes\n",
    "plt.hist(df['Likes'], bins=20, edgecolor='black')\n",
    "plt.title(\"Distribution of Likes\")\n",
    "plt.xlabel(\"Number of Likes\")\n",
    "plt.ylabel(\"Frequency\")\n",
    "plt.show()\n",
    "\n",
    "# Visualization: Boxplot of Likes by Category\n",
    "sns.boxplot(x='Category', y='Likes', data=df)\n",
    "plt.title(\"Likes by Category\")\n",
    "plt.xticks(rotation=45)\n",
    "plt.show()\n",
    "\n",
    "# Analysis: Mean of Likes\n",
    "print(\"Overall Mean of Likes:\", df['Likes'].mean())\n",
    "\n",
    "# Analysis: Mean Likes by Category\n",
    "print(\"\\nMean Likes by Category:\")\n",
    "print(df.groupby('Category')['Likes'].mean())"
   ]
  },
  {
   "cell_type": "markdown",
   "metadata": {},
   "source": [
    "\n",
    "\n",
    "### **Conclusions**\n",
    "\n",
    "#### **Data Trends and Observations:**\n",
    "1. **Overall Popularity:**\n",
    "   - The average number of likes across all categories is **4968.63**.\n",
    "   - The most popular category, **Travel**, has an average of **5624.46 likes**, indicating its broad appeal.\n",
    "   - The least popular category, **Culture**, has an average of **4559.78 likes**, suggesting relatively lower engagement in this area.\n",
    "\n",
    "2. **Category-Based Performance:**\n",
    "   - **Travel**, **Fashion**, and **Music** consistently outperform other categories, with average likes above **5000**.\n",
    "   - **Culture**, **Fitness**, and **Health** are the lower-performing categories, all averaging below **4700 likes**.\n",
    "   - **Family** and **Food** fall in the middle range, showing moderate engagement levels.\n",
    "\n",
    "---\n",
    "\n",
    "#### **Recommendations:**\n",
    "1. **Focus on High-Performing Categories:**\n",
    "   - To maximize engagement, more content should be created around **Travel**, **Fashion**, and **Music**, as they attract the most likes.\n",
    "\n",
    "2. **Experiment with Low-Performing Categories:**\n",
    "   - Investigate why categories like **Culture** and **Fitness** perform poorly. Tailoring content to the target audience for these topics may improve their popularity.\n",
    "\n",
    "3. **Content Diversification:**\n",
    "   - Despite their lower averages, categories like **Culture** and **Fitness** can still be leveraged for niche audiences, particularly if engagement metrics other than likes are considered.\n",
    "\n",
    "---\n",
    "\n",
    "#### **Reflection on Process:**\n",
    "1. **Data Insights:**\n",
    "   - The analysis highlights clear category-specific trends in engagement, which can guide content strategies for social media platforms.\n",
    "   - Categories with high variability in engagement, like **Travel**, may benefit from deeper analysis to identify what drives their success.\n",
    "\n",
    "2. **Future Improvements:**\n",
    "   - Incorporating additional metrics, such as shares, comments, or time of posting, could provide a more holistic view of engagement patterns.\n",
    "   - Expanding the dataset with demographics or regional data could reveal how preferences vary across different audience segments.\n",
    "\n"
   ]
  },
  {
   "cell_type": "code",
   "execution_count": null,
   "metadata": {},
   "outputs": [],
   "source": []
  }
 ],
 "metadata": {
  "kernelspec": {
   "display_name": "Python 3",
   "language": "python",
   "name": "python3"
  },
  "language_info": {
   "codemirror_mode": {
    "name": "ipython",
    "version": 3
   },
   "file_extension": ".py",
   "mimetype": "text/x-python",
   "name": "python",
   "nbconvert_exporter": "python",
   "pygments_lexer": "ipython3",
   "version": "3.7.6"
  }
 },
 "nbformat": 4,
 "nbformat_minor": 4
}
